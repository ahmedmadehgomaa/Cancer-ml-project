{
 "cells": [
  {
   "cell_type": "markdown",
   "id": "58cb62fa",
   "metadata": {},
   "source": [
    "# ML project (cancer dataset)\n",
    "\n",
    "`Second ml project working on cancer dataset`\n",
    "\n",
    "i will try to make the best results to this model :)\n",
    "\n"
   ]
  },
  {
   "cell_type": "markdown",
   "id": "96416ccb",
   "metadata": {},
   "source": [
    "### ``Most important libraries``"
   ]
  },
  {
   "cell_type": "code",
   "execution_count": 1,
   "id": "3666a993",
   "metadata": {},
   "outputs": [],
   "source": [
    "## Most Important \n",
    "import numpy as np\n",
    "import pandas as pd\n",
    "import matplotlib.pyplot as plt\n",
    "import seaborn as sns\n",
    "\n",
    "## other\n",
    "import missingno\n",
    "import os\n",
    "\n",
    "## Model Selection\n",
    "from sklearn.model_selection import train_test_split\n",
    "\n",
    "## Metrics\n",
    "from sklearn.metrics import mean_squared_error, r2_score\n",
    "\n",
    "## Preprocessing \n",
    "from sklearn.impute import SimpleImputer\n",
    "from sklearn.preprocessing import StandardScaler, LabelEncoder, OneHotEncoder\n",
    "from sklearn.pipeline import Pipeline, FeatureUnion\n",
    "# from sklearn_features.transformers import DataFrameSelector\n",
    "\n",
    "## Models\n",
    "from sklearn.linear_model import LinearRegression, SGDRegressor\n",
    "\n",
    "from sklearn_features.transformers import DataFrameSelector"
   ]
  },
  {
   "cell_type": "markdown",
   "id": "e207bfb9",
   "metadata": {},
   "source": [
    "### Load the Data and Look at the big picture\n"
   ]
  },
  {
   "cell_type": "code",
   "execution_count": 2,
   "id": "724bc7af",
   "metadata": {},
   "outputs": [
    {
     "data": {
      "text/html": [
       "<div>\n",
       "<style scoped>\n",
       "    .dataframe tbody tr th:only-of-type {\n",
       "        vertical-align: middle;\n",
       "    }\n",
       "\n",
       "    .dataframe tbody tr th {\n",
       "        vertical-align: top;\n",
       "    }\n",
       "\n",
       "    .dataframe thead th {\n",
       "        text-align: right;\n",
       "    }\n",
       "</style>\n",
       "<table border=\"1\" class=\"dataframe\">\n",
       "  <thead>\n",
       "    <tr style=\"text-align: right;\">\n",
       "      <th></th>\n",
       "      <th>GENDER</th>\n",
       "      <th>AGE</th>\n",
       "      <th>SMOKING</th>\n",
       "      <th>YELLOW_FINGERS</th>\n",
       "      <th>ANXIETY</th>\n",
       "      <th>PEER_PRESSURE</th>\n",
       "      <th>CHRONIC DISEASE</th>\n",
       "      <th>FATIGUE</th>\n",
       "      <th>ALLERGY</th>\n",
       "      <th>WHEEZING</th>\n",
       "      <th>ALCOHOL CONSUMING</th>\n",
       "      <th>COUGHING</th>\n",
       "      <th>SHORTNESS OF BREATH</th>\n",
       "      <th>SWALLOWING DIFFICULTY</th>\n",
       "      <th>CHEST PAIN</th>\n",
       "      <th>LUNG_CANCER</th>\n",
       "    </tr>\n",
       "  </thead>\n",
       "  <tbody>\n",
       "    <tr>\n",
       "      <th>0</th>\n",
       "      <td>M</td>\n",
       "      <td>69</td>\n",
       "      <td>1</td>\n",
       "      <td>2</td>\n",
       "      <td>2</td>\n",
       "      <td>1</td>\n",
       "      <td>1</td>\n",
       "      <td>2</td>\n",
       "      <td>1</td>\n",
       "      <td>2</td>\n",
       "      <td>2</td>\n",
       "      <td>2</td>\n",
       "      <td>2</td>\n",
       "      <td>2</td>\n",
       "      <td>2</td>\n",
       "      <td>YES</td>\n",
       "    </tr>\n",
       "    <tr>\n",
       "      <th>1</th>\n",
       "      <td>M</td>\n",
       "      <td>74</td>\n",
       "      <td>2</td>\n",
       "      <td>1</td>\n",
       "      <td>1</td>\n",
       "      <td>1</td>\n",
       "      <td>2</td>\n",
       "      <td>2</td>\n",
       "      <td>2</td>\n",
       "      <td>1</td>\n",
       "      <td>1</td>\n",
       "      <td>1</td>\n",
       "      <td>2</td>\n",
       "      <td>2</td>\n",
       "      <td>2</td>\n",
       "      <td>YES</td>\n",
       "    </tr>\n",
       "    <tr>\n",
       "      <th>2</th>\n",
       "      <td>F</td>\n",
       "      <td>59</td>\n",
       "      <td>1</td>\n",
       "      <td>1</td>\n",
       "      <td>1</td>\n",
       "      <td>2</td>\n",
       "      <td>1</td>\n",
       "      <td>2</td>\n",
       "      <td>1</td>\n",
       "      <td>2</td>\n",
       "      <td>1</td>\n",
       "      <td>2</td>\n",
       "      <td>2</td>\n",
       "      <td>1</td>\n",
       "      <td>2</td>\n",
       "      <td>NO</td>\n",
       "    </tr>\n",
       "    <tr>\n",
       "      <th>3</th>\n",
       "      <td>M</td>\n",
       "      <td>63</td>\n",
       "      <td>2</td>\n",
       "      <td>2</td>\n",
       "      <td>2</td>\n",
       "      <td>1</td>\n",
       "      <td>1</td>\n",
       "      <td>1</td>\n",
       "      <td>1</td>\n",
       "      <td>1</td>\n",
       "      <td>2</td>\n",
       "      <td>1</td>\n",
       "      <td>1</td>\n",
       "      <td>2</td>\n",
       "      <td>2</td>\n",
       "      <td>NO</td>\n",
       "    </tr>\n",
       "    <tr>\n",
       "      <th>4</th>\n",
       "      <td>F</td>\n",
       "      <td>63</td>\n",
       "      <td>1</td>\n",
       "      <td>2</td>\n",
       "      <td>1</td>\n",
       "      <td>1</td>\n",
       "      <td>1</td>\n",
       "      <td>1</td>\n",
       "      <td>1</td>\n",
       "      <td>2</td>\n",
       "      <td>1</td>\n",
       "      <td>2</td>\n",
       "      <td>2</td>\n",
       "      <td>1</td>\n",
       "      <td>1</td>\n",
       "      <td>NO</td>\n",
       "    </tr>\n",
       "  </tbody>\n",
       "</table>\n",
       "</div>"
      ],
      "text/plain": [
       "  GENDER  AGE  SMOKING  YELLOW_FINGERS  ANXIETY  PEER_PRESSURE  \\\n",
       "0      M   69        1               2        2              1   \n",
       "1      M   74        2               1        1              1   \n",
       "2      F   59        1               1        1              2   \n",
       "3      M   63        2               2        2              1   \n",
       "4      F   63        1               2        1              1   \n",
       "\n",
       "   CHRONIC DISEASE  FATIGUE   ALLERGY   WHEEZING  ALCOHOL CONSUMING  COUGHING  \\\n",
       "0                1         2         1         2                  2         2   \n",
       "1                2         2         2         1                  1         1   \n",
       "2                1         2         1         2                  1         2   \n",
       "3                1         1         1         1                  2         1   \n",
       "4                1         1         1         2                  1         2   \n",
       "\n",
       "   SHORTNESS OF BREATH  SWALLOWING DIFFICULTY  CHEST PAIN LUNG_CANCER  \n",
       "0                    2                      2           2         YES  \n",
       "1                    2                      2           2         YES  \n",
       "2                    2                      1           2          NO  \n",
       "3                    1                      2           2          NO  \n",
       "4                    2                      1           1          NO  "
      ]
     },
     "execution_count": 2,
     "metadata": {},
     "output_type": "execute_result"
    }
   ],
   "source": [
    "## Read the csv file using pandas\n",
    "file_path = os.path.join(os.getcwd(), 'survey lung cancer.csv')\n",
    "df_cancer = pd.read_csv(file_path)\n",
    "\n",
    "## show the head of the DF\n",
    "df_cancer.head()"
   ]
  },
  {
   "cell_type": "code",
   "execution_count": 3,
   "id": "a71fc5b8",
   "metadata": {},
   "outputs": [
    {
     "name": "stdout",
     "output_type": "stream",
     "text": [
      "<class 'pandas.core.frame.DataFrame'>\n",
      "RangeIndex: 309 entries, 0 to 308\n",
      "Data columns (total 16 columns):\n",
      " #   Column                 Non-Null Count  Dtype \n",
      "---  ------                 --------------  ----- \n",
      " 0   GENDER                 309 non-null    object\n",
      " 1   AGE                    309 non-null    int64 \n",
      " 2   SMOKING                309 non-null    int64 \n",
      " 3   YELLOW_FINGERS         309 non-null    int64 \n",
      " 4   ANXIETY                309 non-null    int64 \n",
      " 5   PEER_PRESSURE          309 non-null    int64 \n",
      " 6   CHRONIC DISEASE        309 non-null    int64 \n",
      " 7   FATIGUE                309 non-null    int64 \n",
      " 8   ALLERGY                309 non-null    int64 \n",
      " 9   WHEEZING               309 non-null    int64 \n",
      " 10  ALCOHOL CONSUMING      309 non-null    int64 \n",
      " 11  COUGHING               309 non-null    int64 \n",
      " 12  SHORTNESS OF BREATH    309 non-null    int64 \n",
      " 13  SWALLOWING DIFFICULTY  309 non-null    int64 \n",
      " 14  CHEST PAIN             309 non-null    int64 \n",
      " 15  LUNG_CANCER            309 non-null    object\n",
      "dtypes: int64(14), object(2)\n",
      "memory usage: 38.8+ KB\n"
     ]
    }
   ],
   "source": [
    "## check the info (nulls and datatypes)\n",
    "df_cancer.info()"
   ]
  },
  {
   "cell_type": "code",
   "execution_count": 4,
   "id": "5e455d23",
   "metadata": {},
   "outputs": [
    {
     "data": {
      "text/plain": [
       "['GENDER',\n",
       " 'AGE',\n",
       " 'SMOKING',\n",
       " 'YELLOW_FINGERS',\n",
       " 'ANXIETY',\n",
       " 'PEER_PRESSURE',\n",
       " 'CHRONIC DISEASE',\n",
       " 'FATIGUE ',\n",
       " 'ALLERGY ',\n",
       " 'WHEEZING',\n",
       " 'ALCOHOL CONSUMING',\n",
       " 'COUGHING',\n",
       " 'SHORTNESS OF BREATH',\n",
       " 'SWALLOWING DIFFICULTY',\n",
       " 'CHEST PAIN',\n",
       " 'LUNG_CANCER']"
      ]
     },
     "execution_count": 4,
     "metadata": {},
     "output_type": "execute_result"
    }
   ],
   "source": [
    "cols_list = list(df_cancer.columns)\n",
    "cols_list"
   ]
  },
  {
   "cell_type": "code",
   "execution_count": 5,
   "id": "c77716c6",
   "metadata": {},
   "outputs": [
    {
     "data": {
      "text/plain": [
       "<AxesSubplot:>"
      ]
     },
     "execution_count": 5,
     "metadata": {},
     "output_type": "execute_result"
    },
    {
     "data": {
      "image/png": "[encoded data removed]",
      "text/plain": [
       "<Figure size 1800x720 with 3 Axes>"
      ]
     },
     "metadata": {
      "needs_background": "light"
     },
     "output_type": "display_data"
    }
   ],
   "source": [
    "## check nulls in the data\n",
    "missingno.bar(df_cancer)"
   ]
  },
  {
   "cell_type": "code",
   "execution_count": 6,
   "id": "93f0c191",
   "metadata": {},
   "outputs": [
    {
     "data": {
      "text/plain": [
       "<AxesSubplot:>"
      ]
     },
     "execution_count": 6,
     "metadata": {},
     "output_type": "execute_result"
    },
    {
     "data": {
      "image/png": "[encoded data removed]",
      "text/plain": [
       "<Figure size 1800x720 with 2 Axes>"
      ]
     },
     "metadata": {
      "needs_background": "light"
     },
     "output_type": "display_data"
    }
   ],
   "source": [
    "missingno.matrix(df_cancer)"
   ]
  },
  {
   "cell_type": "markdown",
   "id": "ef8e991c",
   "metadata": {},
   "source": [
    "* `Comment: It seems that Dataset is a contains 309 instances and has no null values, and also all datatypes is int64 as they are continuous numerical features except the (GENDER and LUNG_CANCER) column which is nominal categorical Feature`"
   ]
  },
  {
   "cell_type": "code",
   "execution_count": 7,
   "id": "4d4e41fb",
   "metadata": {},
   "outputs": [
    {
     "data": {
      "text/html": [
       "<div>\n",
       "<style scoped>\n",
       "    .dataframe tbody tr th:only-of-type {\n",
       "        vertical-align: middle;\n",
       "    }\n",
       "\n",
       "    .dataframe tbody tr th {\n",
       "        vertical-align: top;\n",
       "    }\n",
       "\n",
       "    .dataframe thead th {\n",
       "        text-align: right;\n",
       "    }\n",
       "</style>\n",
       "<table border=\"1\" class=\"dataframe\">\n",
       "  <thead>\n",
       "    <tr style=\"text-align: right;\">\n",
       "      <th></th>\n",
       "      <th>AGE</th>\n",
       "      <th>SMOKING</th>\n",
       "      <th>YELLOW_FINGERS</th>\n",
       "      <th>ANXIETY</th>\n",
       "      <th>PEER_PRESSURE</th>\n",
       "      <th>CHRONIC DISEASE</th>\n",
       "      <th>FATIGUE</th>\n",
       "      <th>ALLERGY</th>\n",
       "      <th>WHEEZING</th>\n",
       "      <th>ALCOHOL CONSUMING</th>\n",
       "      <th>COUGHING</th>\n",
       "      <th>SHORTNESS OF BREATH</th>\n",
       "      <th>SWALLOWING DIFFICULTY</th>\n",
       "      <th>CHEST PAIN</th>\n",
       "    </tr>\n",
       "  </thead>\n",
       "  <tbody>\n",
       "    <tr>\n",
       "      <th>count</th>\n",
       "      <td>309.000000</td>\n",
       "      <td>309.000000</td>\n",
       "      <td>309.000000</td>\n",
       "      <td>309.000000</td>\n",
       "      <td>309.000000</td>\n",
       "      <td>309.000000</td>\n",
       "      <td>309.000000</td>\n",
       "      <td>309.000000</td>\n",
       "      <td>309.000000</td>\n",
       "      <td>309.000000</td>\n",
       "      <td>309.000000</td>\n",
       "      <td>309.000000</td>\n",
       "      <td>309.000000</td>\n",
       "      <td>309.000000</td>\n",
       "    </tr>\n",
       "    <tr>\n",
       "      <th>mean</th>\n",
       "      <td>62.673139</td>\n",
       "      <td>1.563107</td>\n",
       "      <td>1.569579</td>\n",
       "      <td>1.498382</td>\n",
       "      <td>1.501618</td>\n",
       "      <td>1.504854</td>\n",
       "      <td>1.673139</td>\n",
       "      <td>1.556634</td>\n",
       "      <td>1.556634</td>\n",
       "      <td>1.556634</td>\n",
       "      <td>1.579288</td>\n",
       "      <td>1.640777</td>\n",
       "      <td>1.469256</td>\n",
       "      <td>1.556634</td>\n",
       "    </tr>\n",
       "    <tr>\n",
       "      <th>std</th>\n",
       "      <td>8.210301</td>\n",
       "      <td>0.496806</td>\n",
       "      <td>0.495938</td>\n",
       "      <td>0.500808</td>\n",
       "      <td>0.500808</td>\n",
       "      <td>0.500787</td>\n",
       "      <td>0.469827</td>\n",
       "      <td>0.497588</td>\n",
       "      <td>0.497588</td>\n",
       "      <td>0.497588</td>\n",
       "      <td>0.494474</td>\n",
       "      <td>0.480551</td>\n",
       "      <td>0.499863</td>\n",
       "      <td>0.497588</td>\n",
       "    </tr>\n",
       "    <tr>\n",
       "      <th>min</th>\n",
       "      <td>21.000000</td>\n",
       "      <td>1.000000</td>\n",
       "      <td>1.000000</td>\n",
       "      <td>1.000000</td>\n",
       "      <td>1.000000</td>\n",
       "      <td>1.000000</td>\n",
       "      <td>1.000000</td>\n",
       "      <td>1.000000</td>\n",
       "      <td>1.000000</td>\n",
       "      <td>1.000000</td>\n",
       "      <td>1.000000</td>\n",
       "      <td>1.000000</td>\n",
       "      <td>1.000000</td>\n",
       "      <td>1.000000</td>\n",
       "    </tr>\n",
       "    <tr>\n",
       "      <th>25%</th>\n",
       "      <td>57.000000</td>\n",
       "      <td>1.000000</td>\n",
       "      <td>1.000000</td>\n",
       "      <td>1.000000</td>\n",
       "      <td>1.000000</td>\n",
       "      <td>1.000000</td>\n",
       "      <td>1.000000</td>\n",
       "      <td>1.000000</td>\n",
       "      <td>1.000000</td>\n",
       "      <td>1.000000</td>\n",
       "      <td>1.000000</td>\n",
       "      <td>1.000000</td>\n",
       "      <td>1.000000</td>\n",
       "      <td>1.000000</td>\n",
       "    </tr>\n",
       "    <tr>\n",
       "      <th>50%</th>\n",
       "      <td>62.000000</td>\n",
       "      <td>2.000000</td>\n",
       "      <td>2.000000</td>\n",
       "      <td>1.000000</td>\n",
       "      <td>2.000000</td>\n",
       "      <td>2.000000</td>\n",
       "      <td>2.000000</td>\n",
       "      <td>2.000000</td>\n",
       "      <td>2.000000</td>\n",
       "      <td>2.000000</td>\n",
       "      <td>2.000000</td>\n",
       "      <td>2.000000</td>\n",
       "      <td>1.000000</td>\n",
       "      <td>2.000000</td>\n",
       "    </tr>\n",
       "    <tr>\n",
       "      <th>75%</th>\n",
       "      <td>69.000000</td>\n",
       "      <td>2.000000</td>\n",
       "      <td>2.000000</td>\n",
       "      <td>2.000000</td>\n",
       "      <td>2.000000</td>\n",
       "      <td>2.000000</td>\n",
       "      <td>2.000000</td>\n",
       "      <td>2.000000</td>\n",
       "      <td>2.000000</td>\n",
       "      <td>2.000000</td>\n",
       "      <td>2.000000</td>\n",
       "      <td>2.000000</td>\n",
       "      <td>2.000000</td>\n",
       "      <td>2.000000</td>\n",
       "    </tr>\n",
       "    <tr>\n",
       "      <th>max</th>\n",
       "      <td>87.000000</td>\n",
       "      <td>2.000000</td>\n",
       "      <td>2.000000</td>\n",
       "      <td>2.000000</td>\n",
       "      <td>2.000000</td>\n",
       "      <td>2.000000</td>\n",
       "      <td>2.000000</td>\n",
       "      <td>2.000000</td>\n",
       "      <td>2.000000</td>\n",
       "      <td>2.000000</td>\n",
       "      <td>2.000000</td>\n",
       "      <td>2.000000</td>\n",
       "      <td>2.000000</td>\n",
       "      <td>2.000000</td>\n",
       "    </tr>\n",
       "  </tbody>\n",
       "</table>\n",
       "</div>"
      ],
      "text/plain": [
       "              AGE     SMOKING  YELLOW_FINGERS     ANXIETY  PEER_PRESSURE  \\\n",
       "count  309.000000  309.000000      309.000000  309.000000     309.000000   \n",
       "mean    62.673139    1.563107        1.569579    1.498382       1.501618   \n",
       "std      8.210301    0.496806        0.495938    0.500808       0.500808   \n",
       "min     21.000000    1.000000        1.000000    1.000000       1.000000   \n",
       "25%     57.000000    1.000000        1.000000    1.000000       1.000000   \n",
       "50%     62.000000    2.000000        2.000000    1.000000       2.000000   \n",
       "75%     69.000000    2.000000        2.000000    2.000000       2.000000   \n",
       "max     87.000000    2.000000        2.000000    2.000000       2.000000   \n",
       "\n",
       "       CHRONIC DISEASE    FATIGUE     ALLERGY     WHEEZING  ALCOHOL CONSUMING  \\\n",
       "count       309.000000  309.000000  309.000000  309.000000         309.000000   \n",
       "mean          1.504854    1.673139    1.556634    1.556634           1.556634   \n",
       "std           0.500787    0.469827    0.497588    0.497588           0.497588   \n",
       "min           1.000000    1.000000    1.000000    1.000000           1.000000   \n",
       "25%           1.000000    1.000000    1.000000    1.000000           1.000000   \n",
       "50%           2.000000    2.000000    2.000000    2.000000           2.000000   \n",
       "75%           2.000000    2.000000    2.000000    2.000000           2.000000   \n",
       "max           2.000000    2.000000    2.000000    2.000000           2.000000   \n",
       "\n",
       "         COUGHING  SHORTNESS OF BREATH  SWALLOWING DIFFICULTY  CHEST PAIN  \n",
       "count  309.000000           309.000000             309.000000  309.000000  \n",
       "mean     1.579288             1.640777               1.469256    1.556634  \n",
       "std      0.494474             0.480551               0.499863    0.497588  \n",
       "min      1.000000             1.000000               1.000000    1.000000  \n",
       "25%      1.000000             1.000000               1.000000    1.000000  \n",
       "50%      2.000000             2.000000               1.000000    2.000000  \n",
       "75%      2.000000             2.000000               2.000000    2.000000  \n",
       "max      2.000000             2.000000               2.000000    2.000000  "
      ]
     },
     "execution_count": 7,
     "metadata": {},
     "output_type": "execute_result"
    }
   ],
   "source": [
    "## some statistics of the DF --> target column is (LUNG_CANCER)\n",
    "df_cancer.describe()"
   ]
  },
  {
   "cell_type": "code",
   "execution_count": 8,
   "id": "02371644",
   "metadata": {
    "scrolled": true
   },
   "outputs": [
    {
     "data": {
      "text/plain": [
       "GENDER                   0\n",
       "AGE                      0\n",
       "SMOKING                  0\n",
       "YELLOW_FINGERS           0\n",
       "ANXIETY                  0\n",
       "PEER_PRESSURE            0\n",
       "CHRONIC DISEASE          0\n",
       "FATIGUE                  0\n",
       "ALLERGY                  0\n",
       "WHEEZING                 0\n",
       "ALCOHOL CONSUMING        0\n",
       "COUGHING                 0\n",
       "SHORTNESS OF BREATH      0\n",
       "SWALLOWING DIFFICULTY    0\n",
       "CHEST PAIN               0\n",
       "LUNG_CANCER              0\n",
       "dtype: int64"
      ]
     },
     "execution_count": 8,
     "metadata": {},
     "output_type": "execute_result"
    }
   ],
   "source": [
    "df_cancer.isna().sum()"
   ]
  },
  {
   "cell_type": "markdown",
   "id": "abdcb5a0",
   "metadata": {},
   "source": [
    "* comment: `it seems that the dataset has no null values`"
   ]
  },
  {
   "cell_type": "markdown",
   "id": "f825d522",
   "metadata": {},
   "source": [
    "## Exploratory Data Analysis (EDA)\n",
    "### `Univariate Visualization`"
   ]
  },
  {
   "cell_type": "code",
   "execution_count": 9,
   "id": "0aaab04e",
   "metadata": {},
   "outputs": [
    {
     "name": "stdout",
     "output_type": "stream",
     "text": [
      "GENDER values -->\n",
      " M    162\n",
      "F    147\n",
      "Name: GENDER, dtype: int64\n",
      "********************************************************************************\n"
     ]
    },
    {
     "data": {
      "image/png": "[encoded data removed]",
      "text/plain": [
       "<Figure size 720x432 with 1 Axes>"
      ]
     },
     "metadata": {
      "needs_background": "light"
     },
     "output_type": "display_data"
    },
    {
     "name": "stdout",
     "output_type": "stream",
     "text": [
      "M -->  52.43%\n",
      "F -->  47.57%\n"
     ]
    }
   ],
   "source": [
    "## Check the Distribution of (GENDER) Feature in Dataset\n",
    "gender_values = df_cancer['GENDER'].value_counts()\n",
    "print('GENDER values -->\\n', gender_values)\n",
    "print('**'*40)\n",
    "\n",
    "## plotting this features\n",
    "plt.figure(figsize=(10, 6))\n",
    "sns.countplot(x='GENDER', data=df_cancer, order=gender_values.index)\n",
    "plt.title('Countplot of GENDER feature in dataset', fontsize=16, c='c')\n",
    "plt.xlabel('GENDER', fontsize=14, c='darkgray')\n",
    "plt.ylabel('Count', fontsize=14, c='darkgray')\n",
    "plt.show()\n",
    "\n",
    "## showing the percenatge\n",
    "count = gender_values[0]\n",
    "strt='{:0.2f}%'.format(100*count / df_cancer.shape[0])\n",
    "print('M --> ', strt)\n",
    "\n",
    "count = gender_values[1]\n",
    "strt='{:0.2f}%'.format(100*count / df_cancer.shape[0])\n",
    "print('F --> ', strt)"
   ]
  },
  {
   "cell_type": "code",
   "execution_count": 10,
   "id": "57c0bfad",
   "metadata": {},
   "outputs": [
    {
     "data": {
      "image/png": "[encoded data removed]",
      "text/plain": [
       "<Figure size 1440x720 with 16 Axes>"
      ]
     },
     "metadata": {
      "needs_background": "light"
     },
     "output_type": "display_data"
    }
   ],
   "source": [
    "## Histogram Distribution of Numerical Variables in Dataset --> only numerical values\n",
    "df_cancer.hist(bins=30, figsize=(20,10))\n",
    "plt.show()"
   ]
  },
  {
   "cell_type": "markdown",
   "id": "037ab601",
   "metadata": {},
   "source": [
    "## Split the Dataset\n",
    "### note: `I will split the Dataset using ordinary method (random method) not (Stratified method)`"
   ]
  },
  {
   "cell_type": "code",
   "execution_count": 11,
   "id": "19749d7f",
   "metadata": {},
   "outputs": [],
   "source": [
    "## Split the Whole dataset to features and target\n",
    "X = df_cancer.drop(['LUNG_CANCER'], axis=1)\n",
    "y = df_cancer['LUNG_CANCER']"
   ]
  },
  {
   "cell_type": "code",
   "execution_count": 12,
   "id": "7cb0703e",
   "metadata": {},
   "outputs": [
    {
     "name": "stdout",
     "output_type": "stream",
     "text": [
      "X_train shape --  (222, 15)\n",
      "y_train shape --  (222,)\n",
      "X_valid shape --  (40, 15)\n",
      "y_valid shape --  (40,)\n",
      "X_test shape --  (47, 15)\n",
      "y_test shape --  (47,)\n"
     ]
    }
   ],
   "source": [
    "## Random split the dataset to three sets (train_set, valid_set, test_set)\n",
    "X_train_full, X_test, y_train_full, y_test = train_test_split(X, y, test_size=0.15, random_state=123, shuffle=True)\n",
    "## there will convert y to labeled\n",
    "lbl_encoder = LabelEncoder()\n",
    "X_train, X_valid, y_train, y_valid = train_test_split(X_train_full,y_train_full, test_size=0.15, random_state=123, shuffle=True)\n",
    "\n",
    "## there will convert y to labeled\n",
    "lbl_encoder = LabelEncoder()\n",
    "y_train = lbl_encoder.fit_transform(y_train)\n",
    "y_valid = lbl_encoder.fit_transform(y_valid)\n",
    "y_test = lbl_encoder.fit_transform(y_test)\n",
    "\n",
    "## check shape\n",
    "print('X_train shape -- ', X_train.shape)\n",
    "print('y_train shape -- ', y_train.shape)\n",
    "print('X_valid shape -- ', X_valid.shape)\n",
    "print('y_valid shape -- ', y_valid.shape)\n",
    "print('X_test shape -- ', X_test.shape)\n",
    "print('y_test shape -- ', y_test.shape)"
   ]
  },
  {
   "cell_type": "markdown",
   "id": "4c46df49",
   "metadata": {},
   "source": [
    "## Dealing with nulls"
   ]
  },
  {
   "cell_type": "code",
   "execution_count": 13,
   "id": "08da1787",
   "metadata": {},
   "outputs": [
    {
     "name": "stdout",
     "output_type": "stream",
     "text": [
      "Numerical Columns : \n",
      " ['AGE', 'SMOKING', 'YELLOW_FINGERS', 'ANXIETY', 'PEER_PRESSURE', 'CHRONIC DISEASE', 'FATIGUE ', 'ALLERGY ', 'WHEEZING', 'ALCOHOL CONSUMING', 'COUGHING', 'SHORTNESS OF BREATH', 'SWALLOWING DIFFICULTY', 'CHEST PAIN']\n",
      "************************************************************\n",
      "Categorical Columns : \n",
      " ['GENDER']\n"
     ]
    }
   ],
   "source": [
    "## Separete the columns according to type (numerical or categorical)\n",
    "num_cols = [col for col in  X_train.columns \n",
    "             if X_train[col].dtype in ['float64', 'int64']]\n",
    "\n",
    "categ_cols = [col for col in  X_train.columns \n",
    "                if X_train[col].dtype not in ['float64', 'int64']]\n",
    "\n",
    "print('Numerical Columns : \\n', num_cols)\n",
    "print('**'*30)\n",
    "print('Categorical Columns : \\n', categ_cols)"
   ]
  },
  {
   "cell_type": "code",
   "execution_count": 14,
   "id": "6006da64",
   "metadata": {},
   "outputs": [],
   "source": [
    "## I choose to impute the nulls with median --> using SimpleImputer\n",
    "imputer = SimpleImputer(strategy='median')  ## define an instance\n",
    "\n",
    "## fit and transform to training data (only Numerical)\n",
    "X_train_filled = imputer.fit_transform(X_train[num_cols])\n",
    "\n",
    "## transform valid and test datasets\n",
    "X_valid_filled = imputer.transform(X_valid[num_cols])\n",
    "X_test_filled = imputer.transform(X_test[num_cols])"
   ]
  },
  {
   "cell_type": "markdown",
   "id": "c56fd58a",
   "metadata": {},
   "source": [
    "## Standardize the Dataset"
   ]
  },
  {
   "cell_type": "code",
   "execution_count": 15,
   "id": "94c594d0",
   "metadata": {},
   "outputs": [],
   "source": [
    "scaler = StandardScaler()\n",
    "\n",
    "X_train_scaled = scaler.fit_transform(X_train_filled)\n",
    "X_valid_scaled = scaler.transform(X_valid_filled)\n",
    "X_test_scaled = scaler.transform(X_test_filled)"
   ]
  },
  {
   "cell_type": "markdown",
   "id": "c41623e4",
   "metadata": {},
   "source": [
    "## Pipeline for Categorical Features -- I will use it in this Project\n",
    "Use OHE -> it is preferable to use OHE when encoding for Features, But if you are encoding the Target, you MUST encode using LabelEncoder, except in Deep Learning we can use OHE for target, but for now, you can use LabelEncoder or OrdinalEncoder or OneHotEncoder for Features and only LabelEncoder for target --- take care of this Note"
   ]
  },
  {
   "cell_type": "code",
   "execution_count": 16,
   "id": "143c3ead",
   "metadata": {},
   "outputs": [],
   "source": [
    "## We can get much much easier like the following\n",
    "## numerical pipeline\n",
    "num_pipeline = Pipeline([\n",
    "                    ('selector', DataFrameSelector(num_cols)),    ## select only these columns\n",
    "                    ('imputer', SimpleImputer(strategy='median')),\n",
    "                    ('scaler', StandardScaler())])\n",
    "\n",
    "## categorical pipeline\n",
    "categ_pipeline = Pipeline(steps=[\n",
    "            ('selector', DataFrameSelector(categ_cols)),    ## select only these columns\n",
    "            ('imputer', SimpleImputer(strategy='constant', fill_value='missing')),\n",
    "            ('OHE', OneHotEncoder(sparse=False))])\n",
    "\n",
    "## concatenate both two pipelines\n",
    "total_pipeline = FeatureUnion(transformer_list=[\n",
    "                                ('num_pip', num_pipeline),\n",
    "                                ('categ_pipeline', categ_pipeline)])\n",
    "\n",
    "## deal with (total_pipeline) as an instance -- fit and transform to train dataset and transform only to other datasets\n",
    "X_train_final = total_pipeline.fit_transform(X_train)\n",
    "X_valid_final = total_pipeline.transform(X_valid)\n",
    "X_test_final = total_pipeline.transform(X_test)                 ### Every thing is processed :D"
   ]
  },
  {
   "cell_type": "markdown",
   "id": "3fb0eab8",
   "metadata": {},
   "source": [
    "## Building ML Models"
   ]
  },
  {
   "cell_type": "markdown",
   "id": "5f75dc55",
   "metadata": {},
   "source": [
    "* `Evaluation Metric: RMSE`"
   ]
  },
  {
   "cell_type": "markdown",
   "id": "41eedf75",
   "metadata": {},
   "source": [
    "## Lnear Regression algorithm: "
   ]
  },
  {
   "cell_type": "code",
   "execution_count": 17,
   "id": "8384c616",
   "metadata": {},
   "outputs": [
    {
     "data": {
      "text/plain": [
       "LinearRegression()"
      ]
     },
     "execution_count": 17,
     "metadata": {},
     "output_type": "execute_result"
    }
   ],
   "source": [
    "lin_reg = LinearRegression()\n",
    "\n",
    "lin_reg.fit(X_train_final, y_train) "
   ]
  },
  {
   "cell_type": "code",
   "execution_count": 18,
   "id": "51d5c198",
   "metadata": {},
   "outputs": [
    {
     "name": "stdout",
     "output_type": "stream",
     "text": [
      "RMSE for training set using LinearRegression -- 0.266\n",
      "RMSE for validating set using LinearRegression -- 0.212\n",
      "********************************************************************************\n",
      "R2 Score for training set using LinearRegression -- 0.409\n",
      "R2 Score for validating set using LinearRegression -- 0.349\n"
     ]
    }
   ],
   "source": [
    "## prediction\n",
    "y_pred_train_lin = lin_reg.predict(X_train_final)  ## predict the training data\n",
    "y_pred_valid_lin = lin_reg.predict(X_valid_final)  ## predict the training data\n",
    "\n",
    "## RMSE\n",
    "rmse_train_lin = (mean_squared_error(y_train, y_pred_train_lin))**0.5\n",
    "rmse_valid_lin = (mean_squared_error(y_valid, y_pred_valid_lin))**0.5\n",
    "\n",
    "## R2 score\n",
    "r2_train_lin = r2_score(y_train, y_pred_train_lin)\n",
    "r2_valid_lin = r2_score(y_valid, y_pred_valid_lin)\n",
    "\n",
    "\n",
    "print(f'RMSE for training set using LinearRegression -- {rmse_train_lin:.3f}')\n",
    "print(f'RMSE for validating set using LinearRegression -- {rmse_valid_lin:.3f}')   \n",
    "print('**'*40)\n",
    "print(f'R2 Score for training set using LinearRegression -- {r2_train_lin:.3f}')\n",
    "print(f'R2 Score for validating set using LinearRegression -- {r2_valid_lin:.3f}')\n",
    "\n",
    "## not bad in the error but r2_score not the best"
   ]
  },
  {
   "cell_type": "markdown",
   "id": "18c5c510",
   "metadata": {},
   "source": [
    "## SGDRegressor:"
   ]
  },
  {
   "cell_type": "code",
   "execution_count": 19,
   "id": "a665e70c",
   "metadata": {},
   "outputs": [
    {
     "data": {
      "text/plain": [
       "SGDRegressor(eta0=0.04, max_iter=10000, penalty=None)"
      ]
     },
     "execution_count": 19,
     "metadata": {},
     "output_type": "execute_result"
    }
   ],
   "source": [
    "sgd_reg = SGDRegressor(penalty=None, eta0=0.04, shuffle=True, max_iter=10000)\n",
    "sgd_reg.fit(X_train_final, y_train)"
   ]
  },
  {
   "cell_type": "code",
   "execution_count": 20,
   "id": "bf8bd7a4",
   "metadata": {},
   "outputs": [
    {
     "name": "stdout",
     "output_type": "stream",
     "text": [
      "RMSE for training set using SGDRegression -- 0.268\n",
      "RMSE for validating set using SGDRegression -- 0.222\n",
      "********************************************************************************\n",
      "R2 Score for training set using SGDRegression -- 0.403\n",
      "R2 Score for validating set using SGDRegression -- 0.292\n"
     ]
    }
   ],
   "source": [
    "## prediction\n",
    "y_pred_train_sgd = sgd_reg.predict(X_train_final)  ## predict the training data\n",
    "y_pred_valid_sgd = sgd_reg.predict(X_valid_final)  ## predict the training data\n",
    "\n",
    "## RMSE\n",
    "rmse_train_sgd = (mean_squared_error(y_train, y_pred_train_sgd))**0.5\n",
    "rmse_valid_sgd = (mean_squared_error(y_valid, y_pred_valid_sgd))**0.5\n",
    "\n",
    "## R2 score\n",
    "r2_train_sgd = r2_score(y_train, y_pred_train_sgd)\n",
    "r2_valid_sgd = r2_score(y_valid, y_pred_valid_sgd)\n",
    "\n",
    "\n",
    "print(f'RMSE for training set using SGDRegression -- {rmse_train_sgd:.3f}')\n",
    "print(f'RMSE for validating set using SGDRegression -- {rmse_valid_sgd:.3f}')   \n",
    "print('**'*40)\n",
    "print(f'R2 Score for training set using SGDRegression -- {r2_train_sgd:.3f}')\n",
    "print(f'R2 Score for validating set using SGDRegression -- {r2_valid_sgd:.3f}')         ## not bad "
   ]
  },
  {
   "cell_type": "code",
   "execution_count": 21,
   "id": "96dd3d11",
   "metadata": {},
   "outputs": [
    {
     "data": {
      "text/html": [
       "<div>\n",
       "<style scoped>\n",
       "    .dataframe tbody tr th:only-of-type {\n",
       "        vertical-align: middle;\n",
       "    }\n",
       "\n",
       "    .dataframe tbody tr th {\n",
       "        vertical-align: top;\n",
       "    }\n",
       "\n",
       "    .dataframe thead th {\n",
       "        text-align: right;\n",
       "    }\n",
       "</style>\n",
       "<table border=\"1\" class=\"dataframe\">\n",
       "  <thead>\n",
       "    <tr style=\"text-align: right;\">\n",
       "      <th></th>\n",
       "    </tr>\n",
       "  </thead>\n",
       "  <tbody>\n",
       "  </tbody>\n",
       "</table>\n",
       "</div>"
      ],
      "text/plain": [
       "Empty DataFrame\n",
       "Columns: []\n",
       "Index: []"
      ]
     },
     "execution_count": 21,
     "metadata": {},
     "output_type": "execute_result"
    }
   ],
   "source": [
    "results = pd.DataFrame()   #creating an empty data frame\n",
    "results"
   ]
  },
  {
   "cell_type": "code",
   "execution_count": 22,
   "id": "abf615fa",
   "metadata": {},
   "outputs": [
    {
     "data": {
      "text/html": [
       "<div>\n",
       "<style scoped>\n",
       "    .dataframe tbody tr th:only-of-type {\n",
       "        vertical-align: middle;\n",
       "    }\n",
       "\n",
       "    .dataframe tbody tr th {\n",
       "        vertical-align: top;\n",
       "    }\n",
       "\n",
       "    .dataframe thead th {\n",
       "        text-align: right;\n",
       "    }\n",
       "</style>\n",
       "<table border=\"1\" class=\"dataframe\">\n",
       "  <thead>\n",
       "    <tr style=\"text-align: right;\">\n",
       "      <th></th>\n",
       "      <th>Algorithm</th>\n",
       "      <th>Accuracy</th>\n",
       "    </tr>\n",
       "  </thead>\n",
       "  <tbody>\n",
       "    <tr>\n",
       "      <th>0</th>\n",
       "      <td>Lnear Regression</td>\n",
       "      <td>0.266</td>\n",
       "    </tr>\n",
       "  </tbody>\n",
       "</table>\n",
       "</div>"
      ],
      "text/plain": [
       "          Algorithm  Accuracy\n",
       "0  Lnear Regression     0.266"
      ]
     },
     "execution_count": 22,
     "metadata": {},
     "output_type": "execute_result"
    }
   ],
   "source": [
    "tempResults = pd.DataFrame({'Algorithm':['Lnear Regression'], 'Accuracy':0.266})\n",
    "results = pd.concat( [results, tempResults] )\n",
    "results = results[['Algorithm','Accuracy']]\n",
    "results"
   ]
  },
  {
   "cell_type": "code",
   "execution_count": 23,
   "id": "5abbf7f2",
   "metadata": {},
   "outputs": [
    {
     "data": {
      "text/html": [
       "<div>\n",
       "<style scoped>\n",
       "    .dataframe tbody tr th:only-of-type {\n",
       "        vertical-align: middle;\n",
       "    }\n",
       "\n",
       "    .dataframe tbody tr th {\n",
       "        vertical-align: top;\n",
       "    }\n",
       "\n",
       "    .dataframe thead th {\n",
       "        text-align: right;\n",
       "    }\n",
       "</style>\n",
       "<table border=\"1\" class=\"dataframe\">\n",
       "  <thead>\n",
       "    <tr style=\"text-align: right;\">\n",
       "      <th></th>\n",
       "      <th>Algorithm</th>\n",
       "      <th>Accuracy</th>\n",
       "    </tr>\n",
       "  </thead>\n",
       "  <tbody>\n",
       "    <tr>\n",
       "      <th>0</th>\n",
       "      <td>Lnear Regression</td>\n",
       "      <td>0.266</td>\n",
       "    </tr>\n",
       "    <tr>\n",
       "      <th>0</th>\n",
       "      <td>SGDRegressor</td>\n",
       "      <td>0.268</td>\n",
       "    </tr>\n",
       "  </tbody>\n",
       "</table>\n",
       "</div>"
      ],
      "text/plain": [
       "          Algorithm  Accuracy\n",
       "0  Lnear Regression     0.266\n",
       "0      SGDRegressor     0.268"
      ]
     },
     "execution_count": 23,
     "metadata": {},
     "output_type": "execute_result"
    }
   ],
   "source": [
    "tempResults = pd.DataFrame({'Algorithm':['SGDRegressor'], 'Accuracy':[0.268]})\n",
    "results = pd.concat( [results, tempResults] )\n",
    "results = results[['Algorithm','Accuracy']]\n",
    "results"
   ]
  },
  {
   "cell_type": "markdown",
   "id": "5dfc6295",
   "metadata": {},
   "source": [
    "### Conclusion\n",
    "\n",
    "Thus, we employed 2 Machine Learning Algorithms on the same data set and obtained the result that Lnear Regression method and SGDRegressor method has the same results."
   ]
  }
 ],
 "metadata": {
  "kernelspec": {
   "display_name": "Python 3 (ipykernel)",
   "language": "python",
   "name": "python3"
  },
  "language_info": {
   "codemirror_mode": {
    "name": "ipython",
    "version": 3
   },
   "file_extension": ".py",
   "mimetype": "text/x-python",
   "name": "python",
   "nbconvert_exporter": "python",
   "pygments_lexer": "ipython3",
   "version": "3.9.12"
  }
 },
 "nbformat": 4,
 "nbformat_minor": 5
}
